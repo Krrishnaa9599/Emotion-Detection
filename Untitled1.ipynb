{
 "cells": [
  {
   "cell_type": "code",
   "execution_count": 1,
   "metadata": {},
   "outputs": [],
   "source": [
    "import numpy as np\n",
    "import os\n",
    "import cv2 as cv"
   ]
  },
  {
   "cell_type": "code",
   "execution_count": 2,
   "metadata": {},
   "outputs": [],
   "source": [
    "import tensorflow as tf\n",
    "from keras.models import load_model"
   ]
  },
  {
   "cell_type": "code",
   "execution_count": 3,
   "metadata": {},
   "outputs": [],
   "source": [
    "model=load_model('emotion-model-final.h5')\n",
    "labels=['neutral', 'happy', 'angry', 'sad']\n",
    "face_cascade= cv.CascadeClassifier('haarcascade_frontalface_default.xml')\n",
    "cap=cv.VideoCapture(0)\n",
    "\n",
    "while True:\n",
    "    ret, frame= cap.read()\n",
    "    \n",
    "    gray= cv.cvtColor(frame, cv.COLOR_BGR2GRAY)\n",
    "    faces=face_cascade.detectMultiScale(gray, 1.1, 4)\n",
    "    #only_face=np.zeros(shape=(600,600,3))\n",
    "    for (x,y,w,h) in faces:\n",
    "        cv.rectangle(frame, (x,y),(x+w, y+h), (255,0,0),3)\n",
    "        #only_face=frame[y:y+w, x:x+h]\n",
    "        model_face= frame[y:y+w, x:x+h]/255.0\n",
    "        resized_frame= np.resize(model_face, (1,100,100,3))\n",
    "        resized_reshape_frame= resized_frame.reshape(1,100,100,3)\n",
    "        \n",
    "        result=model.predict(resized_reshape_frame)\n",
    "        \n",
    "        zz=tf.keras.backend.argmax(result,axis=1)\n",
    "        emotion=labels[tf.keras.backend.eval(zz)[0]]\n",
    "        #print(result.round(1),'--',emotion)\n",
    "        #print(emotion)\n",
    "        frame=cv.putText(frame,emotion,(x-4,y-4),cv.FONT_HERSHEY_SIMPLEX,1,(255,0,0),2)\n",
    "    #print(resized_reshape_frame)\n",
    "    cv.imshow('Em', frame)\n",
    "    #cv.imshow('model_face', only_face)\n",
    "    \n",
    "    if cv.waitKey(1)==ord('q'):\n",
    "        break\n",
    "\n",
    "cap.release()\n",
    "cv.destroyAllWindows()"
   ]
  },
  {
   "cell_type": "code",
   "execution_count": null,
   "metadata": {},
   "outputs": [],
   "source": []
  },
  {
   "cell_type": "code",
   "execution_count": null,
   "metadata": {},
   "outputs": [],
   "source": []
  }
 ],
 "metadata": {
  "kernelspec": {
   "display_name": "Python 3",
   "language": "python",
   "name": "python3"
  },
  "language_info": {
   "codemirror_mode": {
    "name": "ipython",
    "version": 3
   },
   "file_extension": ".py",
   "mimetype": "text/x-python",
   "name": "python",
   "nbconvert_exporter": "python",
   "pygments_lexer": "ipython3",
   "version": "3.8.3"
  }
 },
 "nbformat": 4,
 "nbformat_minor": 4
}
