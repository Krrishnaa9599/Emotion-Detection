{
  "nbformat": 4,
  "nbformat_minor": 0,
  "metadata": {
    "colab": {
      "name": "emotion_detect2.ipynb",
      "provenance": [],
      "collapsed_sections": []
    },
    "kernelspec": {
      "name": "python3",
      "display_name": "Python 3"
    }
  },
  "cells": [
    {
      "cell_type": "markdown",
      "metadata": {
        "id": "BLKEUf9i6gXY"
      },
      "source": [
        "### Do not Run this code I had already Trained the model just run only COMPUTER VISION CODE BELOW"
      ]
    },
    {
      "cell_type": "code",
      "metadata": {
        "id": "DARS2Y1FqaSa"
      },
      "source": [
        "import numpy as np\n",
        "import os\n",
        "import cv2 as cv\n",
        "import tensorflow as tf"
      ],
      "execution_count": null,
      "outputs": []
    },
    {
      "cell_type": "markdown",
      "metadata": {
        "id": "GeS8S3lQx3cZ"
      },
      "source": [
        "### Preprocessing"
      ]
    },
    {
      "cell_type": "code",
      "metadata": {
        "id": "JOlxRtEUraly"
      },
      "source": [
        "from zipfile import *\n",
        "zip= ZipFile('/content/drive/My Drive/Datasets/full2.zip','r', ZIP_STORED)\n",
        "zip.extractall()"
      ],
      "execution_count": null,
      "outputs": []
    },
    {
      "cell_type": "code",
      "metadata": {
        "id": "0Za3wH8EssOa",
        "colab": {
          "base_uri": "https://localhost:8080/",
          "height": 34
        },
        "outputId": "1bd4e5ca-6752-4f50-8a9c-b1de7c43b03b"
      },
      "source": [
        "names=zip.namelist()\n",
        "len(names)"
      ],
      "execution_count": null,
      "outputs": [
        {
          "output_type": "execute_result",
          "data": {
            "text/plain": [
              "304"
            ]
          },
          "metadata": {
            "tags": []
          },
          "execution_count": 1193
        }
      ]
    },
    {
      "cell_type": "code",
      "metadata": {
        "id": "iOSZqxLoq8gd",
        "colab": {
          "base_uri": "https://localhost:8080/",
          "height": 102
        },
        "outputId": "6d54e368-7461-4815-c055-c869dc414495"
      },
      "source": [
        "for dirpath,dirnames,filenames in os.walk('./full2'):\n",
        "    print(dirpath)\n",
        "    #print(dirnames)\n",
        "    #print(len(filenames))\n"
      ],
      "execution_count": null,
      "outputs": [
        {
          "output_type": "stream",
          "text": [
            "./full2\n",
            "./full2/neutral\n",
            "./full2/angry\n",
            "./full2/sad\n",
            "./full2/happy\n"
          ],
          "name": "stdout"
        }
      ]
    },
    {
      "cell_type": "code",
      "metadata": {
        "id": "8_7YmwCKq-ql",
        "colab": {
          "base_uri": "https://localhost:8080/",
          "height": 102
        },
        "outputId": "e88d9386-aa0c-4ee7-f020-e1b3fb23b255"
      },
      "source": [
        "images=[]\n",
        "exp=[]\n",
        "for dirpath,dirnames,filenames in os.walk('./full2'):\n",
        "    print(dirpath)\n",
        "    #print(filenames)\n",
        "    #dirpath=dirpath.replace('C:/Users/Saikrishna/Desktop/Datasets/images/full\\\\','')\n",
        "    #d[dirpath]=filenames\n",
        "    \n",
        "    size=4002\n",
        "    stop=1\n",
        "    for im in filenames:\n",
        "        #print('filename',dirpath+'\\\\'+im)\n",
        "        if stop<=4002: \n",
        "          img= cv.imread(dirpath+'/'+im,cv.IMREAD_COLOR)\n",
        "          #img=cv.cvtColor(img, cv.COLOR_BGR2RGB)\n",
        "          images.append(img)\n",
        "          exp.append(dirpath.replace('./full2/',''))\n",
        "          stop+=1\n",
        "\n",
        "#exp=exp[1:]\n",
        "#print(images)\n"
      ],
      "execution_count": null,
      "outputs": [
        {
          "output_type": "stream",
          "text": [
            "./full2\n",
            "./full2/neutral\n",
            "./full2/angry\n",
            "./full2/sad\n",
            "./full2/happy\n"
          ],
          "name": "stdout"
        }
      ]
    },
    {
      "cell_type": "code",
      "metadata": {
        "id": "VU1GzZY0rEO4",
        "colab": {
          "base_uri": "https://localhost:8080/",
          "height": 51
        },
        "outputId": "ca21e700-0b32-4952-ed82-cc2c68dfbc5b"
      },
      "source": [
        "print(len(images))\n",
        "print(len(exp))"
      ],
      "execution_count": null,
      "outputs": [
        {
          "output_type": "stream",
          "text": [
            "300\n",
            "300\n"
          ],
          "name": "stdout"
        }
      ]
    },
    {
      "cell_type": "code",
      "metadata": {
        "id": "bHkffBGMrE6z"
      },
      "source": [
        "imgs=np.array(images)"
      ],
      "execution_count": null,
      "outputs": []
    },
    {
      "cell_type": "code",
      "metadata": {
        "id": "3fwLY6CPrHEp"
      },
      "source": [
        "#imgs"
      ],
      "execution_count": null,
      "outputs": []
    },
    {
      "cell_type": "code",
      "metadata": {
        "id": "PUTc6tP_rJqu"
      },
      "source": [
        "imgs=imgs/255.0"
      ],
      "execution_count": null,
      "outputs": []
    },
    {
      "cell_type": "code",
      "metadata": {
        "id": "G3ITcGfnxhx9",
        "colab": {
          "base_uri": "https://localhost:8080/",
          "height": 34
        },
        "outputId": "7f3aeb0c-aa4e-410b-d54e-d79864470dc0"
      },
      "source": [
        "imgs.shape"
      ],
      "execution_count": null,
      "outputs": [
        {
          "output_type": "execute_result",
          "data": {
            "text/plain": [
              "(300, 100, 100, 3)"
            ]
          },
          "metadata": {
            "tags": []
          },
          "execution_count": 1200
        }
      ]
    },
    {
      "cell_type": "code",
      "metadata": {
        "id": "XWx4cfPgyUcx",
        "colab": {
          "base_uri": "https://localhost:8080/",
          "height": 34
        },
        "outputId": "802fdf6b-5335-4521-9813-9a6c8a77f095"
      },
      "source": [
        "imgs.min()"
      ],
      "execution_count": null,
      "outputs": [
        {
          "output_type": "execute_result",
          "data": {
            "text/plain": [
              "0.0"
            ]
          },
          "metadata": {
            "tags": []
          },
          "execution_count": 1201
        }
      ]
    },
    {
      "cell_type": "code",
      "metadata": {
        "id": "xpAGKL2lyYio",
        "colab": {
          "base_uri": "https://localhost:8080/",
          "height": 34
        },
        "outputId": "a0d494f0-e47d-49db-f8ae-072dcad60294"
      },
      "source": [
        "imgs.max()"
      ],
      "execution_count": null,
      "outputs": [
        {
          "output_type": "execute_result",
          "data": {
            "text/plain": [
              "1.0"
            ]
          },
          "metadata": {
            "tags": []
          },
          "execution_count": 1202
        }
      ]
    },
    {
      "cell_type": "markdown",
      "metadata": {
        "id": "6Kq2Af4uynOh"
      },
      "source": [
        "### Y to categorical"
      ]
    },
    {
      "cell_type": "code",
      "metadata": {
        "id": "-12rm2Yxysya",
        "colab": {
          "base_uri": "https://localhost:8080/",
          "height": 190
        },
        "outputId": "8bed3b61-95f8-490f-cfaa-3efe9e633bcf"
      },
      "source": [
        "from keras.utils import np_utils\n",
        "cat_temp=exp.copy()\n",
        "labels=list(set(cat_temp))\n",
        "print(labels)\n",
        "for i in range(len(cat_temp)):\n",
        "  cat_temp[i]=labels.index(cat_temp[i])\n",
        "\n",
        "print(exp)\n",
        "cat= np_utils.to_categorical(cat_temp)\n",
        "cat=np.array(cat)\n",
        "print(cat)"
      ],
      "execution_count": null,
      "outputs": [
        {
          "output_type": "stream",
          "text": [
            "['neutral', 'happy', 'angry', 'sad']\n",
            "['neutral', 'neutral', 'neutral', 'neutral', 'neutral', 'neutral', 'neutral', 'neutral', 'neutral', 'neutral', 'neutral', 'neutral', 'neutral', 'neutral', 'neutral', 'neutral', 'neutral', 'neutral', 'neutral', 'neutral', 'neutral', 'neutral', 'neutral', 'neutral', 'neutral', 'neutral', 'neutral', 'neutral', 'neutral', 'neutral', 'neutral', 'neutral', 'neutral', 'neutral', 'neutral', 'neutral', 'neutral', 'neutral', 'neutral', 'neutral', 'neutral', 'neutral', 'neutral', 'neutral', 'neutral', 'neutral', 'neutral', 'neutral', 'neutral', 'neutral', 'neutral', 'neutral', 'neutral', 'neutral', 'neutral', 'neutral', 'neutral', 'neutral', 'neutral', 'neutral', 'neutral', 'neutral', 'neutral', 'neutral', 'neutral', 'neutral', 'neutral', 'neutral', 'neutral', 'neutral', 'neutral', 'neutral', 'neutral', 'neutral', 'neutral', 'angry', 'angry', 'angry', 'angry', 'angry', 'angry', 'angry', 'angry', 'angry', 'angry', 'angry', 'angry', 'angry', 'angry', 'angry', 'angry', 'angry', 'angry', 'angry', 'angry', 'angry', 'angry', 'angry', 'angry', 'angry', 'angry', 'angry', 'angry', 'angry', 'angry', 'angry', 'angry', 'angry', 'angry', 'angry', 'angry', 'angry', 'angry', 'angry', 'angry', 'angry', 'angry', 'angry', 'angry', 'angry', 'angry', 'angry', 'angry', 'angry', 'angry', 'angry', 'angry', 'angry', 'angry', 'angry', 'angry', 'angry', 'angry', 'angry', 'angry', 'angry', 'angry', 'angry', 'angry', 'angry', 'angry', 'angry', 'angry', 'angry', 'angry', 'angry', 'angry', 'angry', 'angry', 'angry', 'sad', 'sad', 'sad', 'sad', 'sad', 'sad', 'sad', 'sad', 'sad', 'sad', 'sad', 'sad', 'sad', 'sad', 'sad', 'sad', 'sad', 'sad', 'sad', 'sad', 'sad', 'sad', 'sad', 'sad', 'sad', 'sad', 'sad', 'sad', 'sad', 'sad', 'sad', 'sad', 'sad', 'sad', 'sad', 'sad', 'sad', 'sad', 'sad', 'sad', 'sad', 'sad', 'sad', 'sad', 'sad', 'sad', 'sad', 'sad', 'sad', 'sad', 'sad', 'sad', 'sad', 'sad', 'sad', 'sad', 'sad', 'sad', 'sad', 'sad', 'sad', 'sad', 'sad', 'sad', 'sad', 'sad', 'sad', 'sad', 'sad', 'sad', 'sad', 'sad', 'sad', 'sad', 'sad', 'happy', 'happy', 'happy', 'happy', 'happy', 'happy', 'happy', 'happy', 'happy', 'happy', 'happy', 'happy', 'happy', 'happy', 'happy', 'happy', 'happy', 'happy', 'happy', 'happy', 'happy', 'happy', 'happy', 'happy', 'happy', 'happy', 'happy', 'happy', 'happy', 'happy', 'happy', 'happy', 'happy', 'happy', 'happy', 'happy', 'happy', 'happy', 'happy', 'happy', 'happy', 'happy', 'happy', 'happy', 'happy', 'happy', 'happy', 'happy', 'happy', 'happy', 'happy', 'happy', 'happy', 'happy', 'happy', 'happy', 'happy', 'happy', 'happy', 'happy', 'happy', 'happy', 'happy', 'happy', 'happy', 'happy', 'happy', 'happy', 'happy', 'happy', 'happy', 'happy', 'happy', 'happy', 'happy']\n",
            "[[1. 0. 0. 0.]\n",
            " [1. 0. 0. 0.]\n",
            " [1. 0. 0. 0.]\n",
            " ...\n",
            " [0. 1. 0. 0.]\n",
            " [0. 1. 0. 0.]\n",
            " [0. 1. 0. 0.]]\n"
          ],
          "name": "stdout"
        }
      ]
    },
    {
      "cell_type": "code",
      "metadata": {
        "id": "Qb2oRFg18Wyo",
        "colab": {
          "base_uri": "https://localhost:8080/",
          "height": 34
        },
        "outputId": "32a01f94-1a60-49a8-b218-e98848c251d0"
      },
      "source": [
        "cat.ndim"
      ],
      "execution_count": null,
      "outputs": [
        {
          "output_type": "execute_result",
          "data": {
            "text/plain": [
              "2"
            ]
          },
          "metadata": {
            "tags": []
          },
          "execution_count": 1204
        }
      ]
    },
    {
      "cell_type": "code",
      "metadata": {
        "id": "vWAILFOG9DVT",
        "colab": {
          "base_uri": "https://localhost:8080/",
          "height": 51
        },
        "outputId": "083af6f4-595d-4473-f951-85faec1bb933"
      },
      "source": [
        "np.array(range(6)).reshape(2,3)"
      ],
      "execution_count": null,
      "outputs": [
        {
          "output_type": "execute_result",
          "data": {
            "text/plain": [
              "array([[0, 1, 2],\n",
              "       [3, 4, 5]])"
            ]
          },
          "metadata": {
            "tags": []
          },
          "execution_count": 1205
        }
      ]
    },
    {
      "cell_type": "markdown",
      "metadata": {
        "id": "OdKBm-yoyA6-"
      },
      "source": [
        "### Train Val Test Split"
      ]
    },
    {
      "cell_type": "code",
      "metadata": {
        "id": "_F7INclvrL31"
      },
      "source": [
        "from sklearn.model_selection import train_test_split\n",
        "x_train_val, x_test, y_train_val, y_test=train_test_split(imgs, cat, train_size=0.9)"
      ],
      "execution_count": null,
      "outputs": []
    },
    {
      "cell_type": "code",
      "metadata": {
        "id": "HqtC6Qqu9hww"
      },
      "source": [
        "x_train, x_val, y_train, y_val=train_test_split(x_train_val, y_train_val, train_size=0.888)"
      ],
      "execution_count": null,
      "outputs": []
    },
    {
      "cell_type": "code",
      "metadata": {
        "id": "4AG0hYEb4fCl"
      },
      "source": [
        "#y_train"
      ],
      "execution_count": null,
      "outputs": []
    },
    {
      "cell_type": "code",
      "metadata": {
        "id": "FwMHkwSU_WWg",
        "colab": {
          "base_uri": "https://localhost:8080/",
          "height": 68
        },
        "outputId": "c2223704-d0eb-4c11-b8f4-315c84ddfbf0"
      },
      "source": [
        "print('x_train=',len(x_train))\n",
        "print('x_val=',len(x_val))\n",
        "print('x_test=',len(x_test))"
      ],
      "execution_count": null,
      "outputs": [
        {
          "output_type": "stream",
          "text": [
            "x_train= 239\n",
            "x_val= 31\n",
            "x_test= 30\n"
          ],
          "name": "stdout"
        }
      ]
    },
    {
      "cell_type": "code",
      "metadata": {
        "id": "fvj6FPwW_4Qo",
        "colab": {
          "base_uri": "https://localhost:8080/",
          "height": 68
        },
        "outputId": "d34ed3a1-3836-4179-ec9a-d25eb6410c5b"
      },
      "source": [
        "print('y_train=',len(y_train))\n",
        "print('y_val=',len(y_val))\n",
        "print('y_test=',len(y_test))"
      ],
      "execution_count": null,
      "outputs": [
        {
          "output_type": "stream",
          "text": [
            "y_train= 239\n",
            "y_val= 31\n",
            "y_test= 30\n"
          ],
          "name": "stdout"
        }
      ]
    },
    {
      "cell_type": "code",
      "metadata": {
        "id": "4MD02BiAAH5Q",
        "colab": {
          "base_uri": "https://localhost:8080/",
          "height": 51
        },
        "outputId": "b52771ca-8630-454d-e6ac-4b7aaf201905"
      },
      "source": [
        "print(len(images))\n",
        "print(len(exp))"
      ],
      "execution_count": null,
      "outputs": [
        {
          "output_type": "stream",
          "text": [
            "300\n",
            "300\n"
          ],
          "name": "stdout"
        }
      ]
    },
    {
      "cell_type": "code",
      "metadata": {
        "id": "A7bLZmtDBp11",
        "colab": {
          "base_uri": "https://localhost:8080/",
          "height": 34
        },
        "outputId": "16ae998b-4cc8-4e13-8070-f2b79796092a"
      },
      "source": [
        "print(x_test.shape)"
      ],
      "execution_count": null,
      "outputs": [
        {
          "output_type": "stream",
          "text": [
            "(30, 100, 100, 3)\n"
          ],
          "name": "stdout"
        }
      ]
    },
    {
      "cell_type": "code",
      "metadata": {
        "id": "aszfY9dCBdU2",
        "colab": {
          "base_uri": "https://localhost:8080/",
          "height": 34
        },
        "outputId": "b22d75e1-559b-454a-a734-41d36c3c6fbb"
      },
      "source": [
        "print(y_test.shape)"
      ],
      "execution_count": null,
      "outputs": [
        {
          "output_type": "stream",
          "text": [
            "(30, 4)\n"
          ],
          "name": "stdout"
        }
      ]
    },
    {
      "cell_type": "markdown",
      "metadata": {
        "id": "XQZ5S5qEA7sc"
      },
      "source": [
        "### Convolutional Neural Network"
      ]
    },
    {
      "cell_type": "markdown",
      "metadata": {
        "id": "AJZIc9N-CBdL"
      },
      "source": [
        "Intialising the CNN"
      ]
    },
    {
      "cell_type": "code",
      "metadata": {
        "id": "WKHThqJTARFa"
      },
      "source": [
        "cnn=tf.keras.models.Sequential()"
      ],
      "execution_count": null,
      "outputs": []
    },
    {
      "cell_type": "markdown",
      "metadata": {
        "id": "-rgJwncyCSnD"
      },
      "source": [
        "Step-1 Convolution"
      ]
    },
    {
      "cell_type": "code",
      "metadata": {
        "id": "IEju_S4uCGCt"
      },
      "source": [
        "cnn.add(tf.keras.layers.Conv2D(filters=64, kernel_size=3, activation='relu', input_shape=[100,100,3]))"
      ],
      "execution_count": null,
      "outputs": []
    },
    {
      "cell_type": "markdown",
      "metadata": {
        "id": "sqS2BY4LDrdH"
      },
      "source": [
        "Step-2 Pooling"
      ]
    },
    {
      "cell_type": "code",
      "metadata": {
        "id": "JPMSNZnzDQ1D"
      },
      "source": [
        "cnn.add(tf.keras.layers.MaxPooling2D(pool_size=(2,2),strides=2))"
      ],
      "execution_count": null,
      "outputs": []
    },
    {
      "cell_type": "markdown",
      "metadata": {
        "id": "jzfcy3wxEL0d"
      },
      "source": [
        "Adding a second conv layer"
      ]
    },
    {
      "cell_type": "code",
      "metadata": {
        "id": "EAihW3PHEKDn"
      },
      "source": [
        "cnn.add(tf.keras.layers.Conv2D(filters=64, kernel_size=3, activation='relu'))\n",
        "cnn.add(tf.keras.layers.MaxPooling2D(pool_size=(2,2),strides=2))"
      ],
      "execution_count": null,
      "outputs": []
    },
    {
      "cell_type": "markdown",
      "metadata": {
        "id": "APcKiRfsEYy4"
      },
      "source": [
        "Step-3 Flattening"
      ]
    },
    {
      "cell_type": "code",
      "metadata": {
        "id": "CL45k7zrEX7m"
      },
      "source": [
        "cnn.add(tf.keras.layers.Flatten())\n",
        "#cnn.add(tf.keras.layers.Dropout(0.5))"
      ],
      "execution_count": null,
      "outputs": []
    },
    {
      "cell_type": "markdown",
      "metadata": {
        "id": "GRnp2GXIErhO"
      },
      "source": [
        "Step-4 Full Connection"
      ]
    },
    {
      "cell_type": "code",
      "metadata": {
        "id": "PKdFcSGvEq-Z"
      },
      "source": [
        "cnn.add(tf.keras.layers.Dense(80, activation='relu'))\n",
        "cnn.add(tf.keras.layers.Dense(80, activation='relu'))"
      ],
      "execution_count": null,
      "outputs": []
    },
    {
      "cell_type": "markdown",
      "metadata": {
        "id": "ort5af1YFIuO"
      },
      "source": [
        "Step 5- Output Layer"
      ]
    },
    {
      "cell_type": "code",
      "metadata": {
        "id": "vVAqV_rHFH6Q"
      },
      "source": [
        "cnn.add(tf.keras.layers.Dense(4, activation='softmax'))"
      ],
      "execution_count": null,
      "outputs": []
    },
    {
      "cell_type": "markdown",
      "metadata": {
        "id": "zMFBDO0lFj-X"
      },
      "source": [
        "### Training the CNN"
      ]
    },
    {
      "cell_type": "markdown",
      "metadata": {
        "id": "ZLht-vIrTW9u"
      },
      "source": [
        "Compiling the CNN"
      ]
    },
    {
      "cell_type": "code",
      "metadata": {
        "id": "Z-_S9FQQFhK4"
      },
      "source": [
        "cnn.compile(optimizer=tf.keras.optimizers.Adam(lr=0.001), loss='categorical_crossentropy', metrics=['accuracy'])"
      ],
      "execution_count": null,
      "outputs": []
    },
    {
      "cell_type": "markdown",
      "metadata": {
        "id": "lgnCk-_9c9i9"
      },
      "source": [
        "Adding Call back function"
      ]
    },
    {
      "cell_type": "code",
      "metadata": {
        "id": "ijet5GJ8dAzf"
      },
      "source": [
        "early_stopping=tf.keras.callbacks.EarlyStopping()"
      ],
      "execution_count": null,
      "outputs": []
    },
    {
      "cell_type": "markdown",
      "metadata": {
        "id": "Se-Y-WoCTbRM"
      },
      "source": [
        "Training the CNN"
      ]
    },
    {
      "cell_type": "code",
      "metadata": {
        "id": "pIC1TrGiTaW0",
        "colab": {
          "base_uri": "https://localhost:8080/",
          "height": 170
        },
        "outputId": "7d262b7b-8907-4724-83f9-cb402a20ccca"
      },
      "source": [
        "NUM_EPOCHS=10\n",
        "\n",
        "cnn.fit(x=x_train, y=y_train, \n",
        "        validation_data=(x_val, y_val), \n",
        "        epochs=NUM_EPOCHS,\n",
        "        verbose=2,\n",
        "        batch_size=8,\n",
        "        callbacks=[early_stopping])"
      ],
      "execution_count": null,
      "outputs": [
        {
          "output_type": "stream",
          "text": [
            "Epoch 1/10\n",
            "30/30 - 5s - loss: 1.0668 - accuracy: 0.4812 - val_loss: 0.7293 - val_accuracy: 0.7097\n",
            "Epoch 2/10\n",
            "30/30 - 5s - loss: 0.6723 - accuracy: 0.7155 - val_loss: 0.6749 - val_accuracy: 0.7419\n",
            "Epoch 3/10\n",
            "30/30 - 5s - loss: 0.5401 - accuracy: 0.7824 - val_loss: 0.6628 - val_accuracy: 0.7097\n",
            "Epoch 4/10\n",
            "30/30 - 5s - loss: 0.3596 - accuracy: 0.8703 - val_loss: 0.9145 - val_accuracy: 0.6129\n"
          ],
          "name": "stdout"
        },
        {
          "output_type": "execute_result",
          "data": {
            "text/plain": [
              "<tensorflow.python.keras.callbacks.History at 0x7f83eedbecf8>"
            ]
          },
          "metadata": {
            "tags": []
          },
          "execution_count": 1223
        }
      ]
    },
    {
      "cell_type": "markdown",
      "metadata": {
        "id": "LH0BThQtq6PE"
      },
      "source": [
        "### Test the model"
      ]
    },
    {
      "cell_type": "code",
      "metadata": {
        "id": "JS8XyYFtqRG6",
        "colab": {
          "base_uri": "https://localhost:8080/",
          "height": 34
        },
        "outputId": "822b454b-ca67-4c45-c043-09cc60a58bc7"
      },
      "source": [
        "test_loss, test_accuracy = cnn.evaluate(x_test, y_test)"
      ],
      "execution_count": null,
      "outputs": [
        {
          "output_type": "stream",
          "text": [
            "1/1 [==============================] - 0s 1ms/step - loss: 0.9441 - accuracy: 0.5333\n"
          ],
          "name": "stdout"
        }
      ]
    },
    {
      "cell_type": "code",
      "metadata": {
        "id": "BQ19hYjcrSTu",
        "colab": {
          "base_uri": "https://localhost:8080/",
          "height": 34
        },
        "outputId": "2a8d81ce-9479-4b17-f0ec-2ef40690a3be"
      },
      "source": [
        "print('Test loss:',test_loss,'Test accuracy', test_accuracy)"
      ],
      "execution_count": null,
      "outputs": [
        {
          "output_type": "stream",
          "text": [
            "Test loss: 0.9441090822219849 Test accuracy 0.5333333611488342\n"
          ],
          "name": "stdout"
        }
      ]
    },
    {
      "cell_type": "code",
      "metadata": {
        "id": "d7KSGvuerlav"
      },
      "source": [
        "#from tf.keras.models import load_model\n",
        "cnn.save('emotion-model.h5')"
      ],
      "execution_count": null,
      "outputs": []
    },
    {
      "cell_type": "code",
      "metadata": {
        "id": "m3PYar8d19Aa"
      },
      "source": [
        "from keras.models import load_model\n",
        "import cv2 as cv"
      ],
      "execution_count": null,
      "outputs": []
    },
    {
      "cell_type": "code",
      "metadata": {
        "id": "epTw639iWBQG"
      },
      "source": [
        "model=load_model('/content/emotion-model.h5')"
      ],
      "execution_count": null,
      "outputs": []
    },
    {
      "cell_type": "code",
      "metadata": {
        "id": "AUw6Nuf-WQX9"
      },
      "source": [
        "img=cv.imread('/content/images38.jpg',cv.IMREAD_COLOR)\n",
        "#img=cv.cvtColor(img, cv.COLOR_BGR2RGB)\n",
        "img=np.reshape(img,(1,100,100,3))\n",
        "img.shape\n",
        "result=model.predict(img)"
      ],
      "execution_count": null,
      "outputs": []
    },
    {
      "cell_type": "code",
      "metadata": {
        "id": "C6BePBoWa50v",
        "colab": {
          "base_uri": "https://localhost:8080/",
          "height": 35
        },
        "outputId": "2069eff9-aa3b-44e1-f613-2705dcfdbdba"
      },
      "source": [
        "x=tf.keras.backend.argmax(result)\n",
        "labels[tf.keras.backend.eval(x)[0]]"
      ],
      "execution_count": null,
      "outputs": [
        {
          "output_type": "execute_result",
          "data": {
            "application/vnd.google.colaboratory.intrinsic+json": {
              "type": "string"
            },
            "text/plain": [
              "'sad'"
            ]
          },
          "metadata": {
            "tags": []
          },
          "execution_count": 1251
        }
      ]
    },
    {
      "cell_type": "code",
      "metadata": {
        "id": "N6uUKxXdbykm",
        "colab": {
          "base_uri": "https://localhost:8080/",
          "height": 117
        },
        "outputId": "7f921317-0c4c-4eda-997e-2166d13726f3"
      },
      "source": [
        "from google.colab.patches import cv2_imshow\n",
        "img=img.reshape(100,100,3)\n",
        "cv2_imshow(img)"
      ],
      "execution_count": null,
      "outputs": [
        {
          "output_type": "display_data",
          "data": {
            "image/png": "[encoded data removed]",
            "text/plain": [
              "<PIL.Image.Image image mode=RGB size=100x100 at 0x7F83E0D28080>"
            ]
          },
          "metadata": {
            "tags": []
          }
        }
      ]
    },
    {
      "cell_type": "code",
      "metadata": {
        "id": "NXjMTGAAfg_m"
      },
      "source": [
        ""
      ],
      "execution_count": null,
      "outputs": []
    },
    {
      "cell_type": "code",
      "metadata": {
        "id": "WgHtpuQOkHGh"
      },
      "source": [
        ""
      ],
      "execution_count": null,
      "outputs": []
    },
    {
      "cell_type": "markdown",
      "metadata": {
        "id": "MeKJePvD54Vs"
      },
      "source": [
        "## Computer Vision code Run in Computer"
      ]
    },
    {
      "cell_type": "code",
      "metadata": {
        "id": "L9rQE2P96BK_"
      },
      "source": [
        "import numpy as np\n",
        "import os\n",
        "import cv2 as cv"
      ],
      "execution_count": null,
      "outputs": []
    },
    {
      "cell_type": "code",
      "metadata": {
        "id": "A_ZZT6Dz6Kmj"
      },
      "source": [
        "import tensorflow as tf\n",
        "from keras.models import load_model"
      ],
      "execution_count": null,
      "outputs": []
    },
    {
      "cell_type": "code",
      "metadata": {
        "id": "WWNobIeM6Pdv"
      },
      "source": [
        "model=load_model('emotion-model-final.h5')\n",
        "labels=['neutral', 'happy', 'angry', 'sad']\n",
        "face_cascade= cv.CascadeClassifier('haarcascade_frontalface_default.xml')\n",
        "cap=cv.VideoCapture(0)\n",
        "\n",
        "while True:\n",
        "    ret, frame= cap.read()\n",
        "    \n",
        "    gray= cv.cvtColor(frame, cv.COLOR_BGR2GRAY)\n",
        "    faces=face_cascade.detectMultiScale(gray, 1.1, 4)\n",
        "    #only_face=np.zeros(shape=(600,600,3))\n",
        "    for (x,y,w,h) in faces:\n",
        "        cv.rectangle(frame, (x,y),(x+w, y+h), (255,0,0),3)\n",
        "        #only_face=frame[y:y+w, x:x+h]\n",
        "        model_face= frame[y:y+w, x:x+h]/255.0\n",
        "        resized_frame= np.resize(model_face, (1,100,100,3))\n",
        "        resized_reshape_frame= resized_frame.reshape(1,100,100,3)\n",
        "        \n",
        "        result=model.predict(resized_reshape_frame)\n",
        "        \n",
        "        zz=tf.keras.backend.argmax(result,axis=1)\n",
        "        emotion=labels[tf.keras.backend.eval(zz)[0]]\n",
        "        #print(result.round(1),'--',emotion)\n",
        "        #print(emotion)\n",
        "        frame=cv.putText(frame,emotion,(x-4,y-4),cv.FONT_HERSHEY_SIMPLEX,1,(255,0,0),2)\n",
        "    #print(resized_reshape_frame)\n",
        "    cv.imshow('Em', frame)\n",
        "    #cv.imshow('model_face', only_face)\n",
        "    \n",
        "    if cv.waitKey(1)==ord('q'):\n",
        "        break\n",
        "\n",
        "cap.release()\n",
        "cv.destroyAllWindows()"
      ],
      "execution_count": null,
      "outputs": []
    }
  ]
}